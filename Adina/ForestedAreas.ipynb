{
 "cells": [
  {
   "cell_type": "code",
   "execution_count": 2,
   "id": "a855696f",
   "metadata": {},
   "outputs": [],
   "source": [
    "# Dependencies\n",
    "\n",
    "import pandas as pd\n",
    "import matplotlib.pyplot as plt\n",
    "from scipy.stats import linregress, pearsonr\n",
    "import plotly.express as px\n",
    "import plotly.graph_objects as go\n",
    "from sklearn.linear_model import LinearRegression\n",
    "from sklearn.metrics import r2_score\n",
    "from scipy.stats import pearsonr\n",
    "import numpy as np\n",
    "import dash\n",
    "from dash import dcc, html\n",
    "from dash.dependencies import Input, Output\n",
    "\n"
   ]
  },
  {
   "cell_type": "code",
   "execution_count": 3,
   "id": "f859ac35",
   "metadata": {},
   "outputs": [
    {
     "data": {
      "text/html": [
       "<div>\n",
       "<style scoped>\n",
       "    .dataframe tbody tr th:only-of-type {\n",
       "        vertical-align: middle;\n",
       "    }\n",
       "\n",
       "    .dataframe tbody tr th {\n",
       "        vertical-align: top;\n",
       "    }\n",
       "\n",
       "    .dataframe thead th {\n",
       "        text-align: right;\n",
       "    }\n",
       "</style>\n",
       "<table border=\"1\" class=\"dataframe\">\n",
       "  <thead>\n",
       "    <tr style=\"text-align: right;\">\n",
       "      <th></th>\n",
       "      <th>Country</th>\n",
       "      <th>Forested Area (%)</th>\n",
       "      <th>Life Expectancy (years)</th>\n",
       "    </tr>\n",
       "  </thead>\n",
       "  <tbody>\n",
       "    <tr>\n",
       "      <th>0</th>\n",
       "      <td>Suriname</td>\n",
       "      <td>98.3</td>\n",
       "      <td>71.6</td>\n",
       "    </tr>\n",
       "    <tr>\n",
       "      <th>1</th>\n",
       "      <td>Federated States of Micronesia</td>\n",
       "      <td>91.9</td>\n",
       "      <td>67.8</td>\n",
       "    </tr>\n",
       "    <tr>\n",
       "      <th>2</th>\n",
       "      <td>Gabon</td>\n",
       "      <td>90.0</td>\n",
       "      <td>66.2</td>\n",
       "    </tr>\n",
       "    <tr>\n",
       "      <th>3</th>\n",
       "      <td>Seychelles</td>\n",
       "      <td>88.4</td>\n",
       "      <td>72.8</td>\n",
       "    </tr>\n",
       "    <tr>\n",
       "      <th>4</th>\n",
       "      <td>Palau</td>\n",
       "      <td>87.6</td>\n",
       "      <td>69.1</td>\n",
       "    </tr>\n",
       "  </tbody>\n",
       "</table>\n",
       "</div>"
      ],
      "text/plain": [
       "                          Country  Forested Area (%)  Life Expectancy (years)\n",
       "0                        Suriname               98.3                     71.6\n",
       "1  Federated States of Micronesia               91.9                     67.8\n",
       "2                           Gabon               90.0                     66.2\n",
       "3                      Seychelles               88.4                     72.8\n",
       "4                           Palau               87.6                     69.1"
      ]
     },
     "execution_count": 3,
     "metadata": {},
     "output_type": "execute_result"
    }
   ],
   "source": [
    "# Load CSV into DF\n",
    "\n",
    "file_path = 'Resources/Forested_Areas.csv'\n",
    "forest_df = pd.read_csv(file_path, encoding='utf-8')\n",
    "\n",
    "forest_df.head()"
   ]
  },
  {
   "cell_type": "code",
   "execution_count": 4,
   "id": "ff53582d",
   "metadata": {
    "scrolled": true
   },
   "outputs": [
    {
     "data": {
      "image/png": "[encoded data removed]",
      "text/plain": [
       "<Figure size 720x432 with 1 Axes>"
      ]
     },
     "metadata": {
      "needs_background": "light"
     },
     "output_type": "display_data"
    }
   ],
   "source": [
    "# Determine plot size\n",
    "plt.figure(figsize=(10, 6))\n",
    "\n",
    "# Create a scatter plot\n",
    "plt.scatter(forest_df[\"Forested Area (%)\"], forest_df[\"Life Expectancy (years)\"])\n",
    "\n",
    "# Calculate the linear regression line\n",
    "slope, intercept, r_value, p_value, std_err = linregress(forest_df[\"Forested Area (%)\"], forest_df[\"Life Expectancy (years)\"])\n",
    "\n",
    "# Plot the regression line\n",
    "plt.plot(forest_df[\"Forested Area (%)\"], intercept + slope * forest_df[\"Forested Area (%)\"], color='red')\n",
    "\n",
    "# Calculate and annotate the correlation coefficient and p-value\n",
    "r, p = pearsonr(forest_df[\"Forested Area (%)\"], forest_df[\"Life Expectancy (years)\"])\n",
    "plt.annotate(f'r={r:.2f}, p={p:.2f}', xy=(0.1, 0.9), xycoords=plt.gcf().transFigure)\n",
    "\n",
    "# Label Chart\n",
    "plt.xlabel('Forested Areas (%)')\n",
    "plt.ylabel('Life Expectancy (years)')\n",
    "plt.title('Life Expectancy vs. Forested Areas')\n",
    "plt.show()"
   ]
  },
  {
   "cell_type": "code",
   "execution_count": 5,
   "id": "4252d247",
   "metadata": {},
   "outputs": [
    {
     "data": {
      "text/html": [
       "\n",
       "        <iframe\n",
       "            width=\"100%\"\n",
       "            height=\"650\"\n",
       "            src=\"http://127.0.0.1:8050/\"\n",
       "            frameborder=\"0\"\n",
       "            allowfullscreen\n",
       "            \n",
       "        ></iframe>\n",
       "        "
      ],
      "text/plain": [
       "<IPython.lib.display.IFrame at 0x1c4b2a48888>"
      ]
     },
     "metadata": {},
     "output_type": "display_data"
    }
   ],
   "source": [
    "# Create a Dash application\n",
    "app = dash.Dash(__name__)\n",
    "\n",
    "# Define the layout of the application\n",
    "app.layout = html.Div([\n",
    "    # Dropdown menu for selecting a country\n",
    " dcc.Dropdown(\n",
    "   id='country-dropdown',\n",
    "   options=[{'label': i, 'value': i} for i in forest_df['Country'].unique()],\n",
    "   value=forest_df['Country'].iloc[0]\n",
    " ),\n",
    "    # Graph object for displaying the scatter plot\n",
    " dcc.Graph(id='scatter-plot')\n",
    "])\n",
    "\n",
    "# Define a callback function that updates the scatter plot based on the selected country\n",
    "@app.callback(\n",
    " Output('scatter-plot', 'figure'),\n",
    " Input('country-dropdown', 'value')\n",
    ")\n",
    "def update_scatter_plot(selected_country):\n",
    "    \n",
    " # Filter the DataFrame for the selected country\n",
    " filtered_df = forest_df[forest_df['Country'] == selected_country]\n",
    "\n",
    " # Define X and y\n",
    " X = filtered_df[\"Forested Area (%)\"].values.reshape(-1, 1)\n",
    " y = filtered_df[\"Life Expectancy (years)\"]\n",
    "\n",
    " # Create a scatter plot\n",
    " fig = px.scatter(forest_df, x=\"Forested Area (%)\", y=\"Life Expectancy (years)\", color=forest_df['Country'].apply(lambda x: 'green' if x == selected_country else 'blue'), custom_data=['Country'], hover_data=['Country'])\n",
    "\n",
    "# Customize the hovertemplate\n",
    " fig.update_traces(hovertemplate=\"<b>Country:</b> %{customdata[0]}<br><b>Forested Area:</b> %{x}<br><b>Life Expectancy:</b> %{y}<extra></extra>\")\n",
    "\n",
    " # Remove the legend\n",
    " fig.update_layout(showlegend=False)\n",
    "\n",
    "# Return the figure object which will be used to render the scatter plot\n",
    " return fig\n",
    "\n",
    "# Run application\n",
    "if __name__ == '__main__':\n",
    " app.run_server(debug=True)\n"
   ]
  },
  {
   "cell_type": "code",
   "execution_count": null,
   "id": "ac8b2b8a",
   "metadata": {},
   "outputs": [],
   "source": []
  },
  {
   "cell_type": "code",
   "execution_count": null,
   "id": "09b8ead9",
   "metadata": {},
   "outputs": [],
   "source": []
  }
 ],
 "metadata": {
  "kernelspec": {
   "display_name": "PythonData",
   "language": "python",
   "name": "pythondata"
  },
  "language_info": {
   "codemirror_mode": {
    "name": "ipython",
    "version": 3
   },
   "file_extension": ".py",
   "mimetype": "text/x-python",
   "name": "python",
   "nbconvert_exporter": "python",
   "pygments_lexer": "ipython3",
   "version": "3.7.7"
  }
 },
 "nbformat": 4,
 "nbformat_minor": 5
}
