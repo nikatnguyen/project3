{
 "cells": [
  {
   "cell_type": "code",
   "execution_count": 1,
   "id": "255c266f",
   "metadata": {},
   "outputs": [],
   "source": [
    "# Dependencies\n",
    "\n",
    "import pandas as pd\n",
    "from pathlib import Path\n",
    "import matplotlib.pyplot as plt\n",
    "from scipy.stats import linregress, pearsonr\n"
   ]
  },
  {
   "cell_type": "code",
   "execution_count": 2,
   "id": "25ce7a8f",
   "metadata": {},
   "outputs": [
    {
     "data": {
      "text/html": [
       "<div>\n",
       "<style scoped>\n",
       "    .dataframe tbody tr th:only-of-type {\n",
       "        vertical-align: middle;\n",
       "    }\n",
       "\n",
       "    .dataframe tbody tr th {\n",
       "        vertical-align: top;\n",
       "    }\n",
       "\n",
       "    .dataframe thead th {\n",
       "        text-align: right;\n",
       "    }\n",
       "</style>\n",
       "<table border=\"1\" class=\"dataframe\">\n",
       "  <thead>\n",
       "    <tr style=\"text-align: right;\">\n",
       "      <th></th>\n",
       "      <th>Country</th>\n",
       "      <th>Forested Area (%)</th>\n",
       "      <th>Life Expectancy (years)</th>\n",
       "    </tr>\n",
       "  </thead>\n",
       "  <tbody>\n",
       "    <tr>\n",
       "      <th>0</th>\n",
       "      <td>Suriname</td>\n",
       "      <td>98.3</td>\n",
       "      <td>71.6</td>\n",
       "    </tr>\n",
       "    <tr>\n",
       "      <th>1</th>\n",
       "      <td>Federated States of Micronesia</td>\n",
       "      <td>91.9</td>\n",
       "      <td>67.8</td>\n",
       "    </tr>\n",
       "    <tr>\n",
       "      <th>2</th>\n",
       "      <td>Gabon</td>\n",
       "      <td>90.0</td>\n",
       "      <td>66.2</td>\n",
       "    </tr>\n",
       "    <tr>\n",
       "      <th>3</th>\n",
       "      <td>Seychelles</td>\n",
       "      <td>88.4</td>\n",
       "      <td>72.8</td>\n",
       "    </tr>\n",
       "    <tr>\n",
       "      <th>4</th>\n",
       "      <td>Palau</td>\n",
       "      <td>87.6</td>\n",
       "      <td>69.1</td>\n",
       "    </tr>\n",
       "  </tbody>\n",
       "</table>\n",
       "</div>"
      ],
      "text/plain": [
       "                          Country  Forested Area (%)  Life Expectancy (years)\n",
       "0                        Suriname               98.3                     71.6\n",
       "1  Federated States of Micronesia               91.9                     67.8\n",
       "2                           Gabon               90.0                     66.2\n",
       "3                      Seychelles               88.4                     72.8\n",
       "4                           Palau               87.6                     69.1"
      ]
     },
     "execution_count": 2,
     "metadata": {},
     "output_type": "execute_result"
    }
   ],
   "source": [
    "# Load CSV into DF\n",
    "\n",
    "file_path = 'Resources/Forested_Areas.csv'\n",
    "forest_df = pd.read_csv(file_path, encoding='utf-8')\n",
    "\n",
    "forest_df.head()"
   ]
  },
  {
   "cell_type": "code",
   "execution_count": 3,
   "id": "75a042cc",
   "metadata": {
    "scrolled": true
   },
   "outputs": [
    {
     "data": {
      "image/png": "[encoded data removed]",
      "text/plain": [
       "<Figure size 720x432 with 1 Axes>"
      ]
     },
     "metadata": {
      "needs_background": "light"
     },
     "output_type": "display_data"
    }
   ],
   "source": [
    "# Determine plot size\n",
    "plt.figure(figsize=(10, 6))\n",
    "\n",
    "# Create a scatter plot\n",
    "plt.scatter(forest_df[\"Forested Area (%)\"], forest_df[\"Life Expectancy (years)\"])\n",
    "\n",
    "# Calculate the linear regression line\n",
    "slope, intercept, r_value, p_value, std_err = linregress(forest_df[\"Forested Area (%)\"], forest_df[\"Life Expectancy (years)\"])\n",
    "\n",
    "# Plot the regression line\n",
    "plt.plot(forest_df[\"Forested Area (%)\"], intercept + slope * forest_df[\"Forested Area (%)\"], color='red')\n",
    "\n",
    "# Calculate and annotate the correlation coefficient and p-value\n",
    "r, p = pearsonr(forest_df[\"Forested Area (%)\"], forest_df[\"Life Expectancy (years)\"])\n",
    "plt.annotate(f'r={r:.2f}, p={p:.2f}', xy=(0.1, 0.9), xycoords=plt.gcf().transFigure)\n",
    "\n",
    "# Label Chart\n",
    "plt.xlabel('Forested Area (%)')\n",
    "plt.ylabel('Life Expectancy (years)')\n",
    "plt.title('Scatter plot of Life Expectancy vs. Forested Area')\n",
    "plt.show()"
   ]
  },
  {
   "cell_type": "code",
   "execution_count": 8,
   "id": "5c8618ac",
   "metadata": {},
   "outputs": [
    {
     "name": "stdout",
     "output_type": "stream",
     "text": [
      "R-squared value: 0.00\n",
      "Correlation coefficient (r): 0.01\n",
      "p-value: 0.94\n"
     ]
    },
    {
     "data": {
      "application/vnd.plotly.v1+json": {
       "config": {
        "plotlyServerURL": "https://plot.ly"
       },
       "data": [
        {
         "customdata": [
          [
           "Suriname"
          ],
          [
           "Federated States of Micronesia"
          ],
          [
           "Gabon"
          ],
          [
           "Seychelles"
          ],
          [
           "Palau"
          ],
          [
           "Guyana"
          ],
          [
           "Laos"
          ],
          [
           "Solomon Islands"
          ],
          [
           "Papua New Guinea"
          ],
          [
           "Finland"
          ],
          [
           "Bhutan"
          ],
          [
           "Brunei"
          ],
          [
           "Marshall Islands"
          ],
          [
           "Guinea-Bissau"
          ],
          [
           "Saint Vincent and the Grenadines"
          ],
          [
           "Sweden"
          ],
          [
           "Japan"
          ],
          [
           "Malaysia"
          ],
          [
           "Democratic Republic of the Congo"
          ],
          [
           "Republic of the Congo"
          ],
          [
           "Zambia"
          ],
          [
           "South Korea"
          ],
          [
           "Slovenia"
          ],
          [
           "Panama"
          ],
          [
           "Montenegro"
          ],
          [
           "Samoa"
          ],
          [
           "Belize"
          ],
          [
           "Brazil"
          ],
          [
           "Peru"
          ],
          [
           "Dominica"
          ],
          [
           "Fiji"
          ],
          [
           "S�����������"
          ],
          [
           "Equatorial Guinea"
          ],
          [
           "Costa Rica"
          ],
          [
           "Latvia"
          ],
          [
           "Cambodia"
          ],
          [
           "Colombia"
          ],
          [
           "Venezuela"
          ],
          [
           "Tanzania"
          ],
          [
           "The Bahamas"
          ],
          [
           "Estonia"
          ],
          [
           "Bolivia"
          ],
          [
           "Ecuador"
          ],
          [
           "Grenada"
          ],
          [
           "Indonesia"
          ],
          [
           "Russia"
          ],
          [
           "The Gambia"
          ],
          [
           "Vietnam"
          ],
          [
           "Mozambique"
          ],
          [
           "Austria"
          ],
          [
           "Angola"
          ],
          [
           "Trinidad and Tobago"
          ],
          [
           "East Timor"
          ],
          [
           "Myanmar"
          ],
          [
           "Liberia"
          ],
          [
           "Liechtenstein"
          ],
          [
           "Sierra Leone"
          ],
          [
           "Senegal"
          ],
          [
           "Bosnia and Herzegovina"
          ],
          [
           "Belarus"
          ],
          [
           "Saint Kitts and Nevis"
          ],
          [
           "Dominican Republic"
          ],
          [
           "Ghana"
          ],
          [
           "North Korea"
          ],
          [
           "Georgia"
          ],
          [
           "Slovakia"
          ],
          [
           "Honduras"
          ],
          [
           "Cameroon"
          ],
          [
           "New Zealand"
          ],
          [
           "Canada"
          ],
          [
           "Benin"
          ],
          [
           "Paraguay"
          ],
          [
           "Spain"
          ],
          [
           "Vanuatu"
          ],
          [
           "Luxembourg"
          ],
          [
           "Central African Republic"
          ],
          [
           "Zimbabwe"
          ],
          [
           "Bulgaria"
          ],
          [
           "Lithuania"
          ],
          [
           "Czech Republic"
          ],
          [
           "Portugal"
          ],
          [
           "Croatia"
          ],
          [
           "Mexico"
          ],
          [
           "United States"
          ],
          [
           "Malawi"
          ],
          [
           "Norway"
          ],
          [
           "Saint Lucia"
          ],
          [
           "Sri Lanka"
          ],
          [
           "Ivory Coast"
          ],
          [
           "Germany"
          ],
          [
           "Guatemala"
          ],
          [
           "Thailand"
          ],
          [
           "Italy"
          ],
          [
           "Switzerland"
          ],
          [
           "Greece"
          ],
          [
           "Cuba"
          ],
          [
           "France"
          ],
          [
           "Serbia"
          ],
          [
           "Jamaica"
          ],
          [
           "Poland"
          ],
          [
           "Romania"
          ],
          [
           "Albania"
          ],
          [
           "Philippines"
          ],
          [
           "Nicaragua"
          ],
          [
           "Guinea"
          ],
          [
           "Nepal"
          ],
          [
           "Chile"
          ],
          [
           "India"
          ],
          [
           "Singapore"
          ],
          [
           "Hungary"
          ],
          [
           "Belgium"
          ],
          [
           "Cape Verde"
          ],
          [
           "China"
          ],
          [
           "Antigua and Barbuda"
          ],
          [
           "Madagascar"
          ],
          [
           "Comoros"
          ],
          [
           "Rwanda"
          ],
          [
           "Burkina Faso"
          ],
          [
           "Mauritius"
          ],
          [
           "Botswana"
          ],
          [
           "Cyprus"
          ],
          [
           "Ukraine"
          ],
          [
           "Australia"
          ],
          [
           "Turkey"
          ],
          [
           "Kiribati"
          ],
          [
           "Eritrea"
          ],
          [
           "Barbados"
          ],
          [
           "Denmark"
          ],
          [
           "Azerbaijan"
          ],
          [
           "Lebanon"
          ],
          [
           "United Kingdom"
          ],
          [
           "El Salvador"
          ],
          [
           "Moldova"
          ],
          [
           "Morocco"
          ],
          [
           "Ethiopia"
          ],
          [
           "Tonga"
          ],
          [
           "Armenia"
          ],
          [
           "Netherlands"
          ],
          [
           "Bangladesh"
          ],
          [
           "Republic of Ireland"
          ],
          [
           "Burundi"
          ],
          [
           "Uruguay"
          ],
          [
           "Somalia"
          ],
          [
           "Argentina"
          ],
          [
           "Uganda"
          ],
          [
           "Turkmenistan"
          ],
          [
           "Namibia"
          ],
          [
           "Sudan"
          ],
          [
           "Mongolia"
          ],
          [
           "Kenya"
          ],
          [
           "Israel"
          ],
          [
           "South Africa"
          ],
          [
           "Uzbekistan"
          ],
          [
           "Nigeria"
          ],
          [
           "Tunisia"
          ],
          [
           "Iran"
          ],
          [
           "United Arab Emirates"
          ],
          [
           "Chad"
          ],
          [
           "Mali"
          ],
          [
           "Haiti"
          ],
          [
           "Kyrgyzstan"
          ],
          [
           "Maldives"
          ],
          [
           "Togo"
          ],
          [
           "Tajikistan"
          ],
          [
           "Syria"
          ],
          [
           "Afghanistan"
          ],
          [
           "Iraq"
          ],
          [
           "Pakistan"
          ],
          [
           "Lesotho"
          ],
          [
           "Kazakhstan"
          ],
          [
           "Jordan"
          ],
          [
           "Malta"
          ],
          [
           "Yemen"
          ],
          [
           "Niger"
          ],
          [
           "Algeria"
          ],
          [
           "Bahrain"
          ],
          [
           "Iceland"
          ],
          [
           "Saudi Arabia"
          ],
          [
           "Kuwait"
          ],
          [
           "Djibouti"
          ],
          [
           "Mauritania"
          ],
          [
           "Egypt"
          ],
          [
           "Libya"
          ],
          [
           "Oman"
          ],
          [
           "Qatar"
          ],
          [
           "San Marino"
          ]
         ],
         "hovertemplate": "Forested Area (%)=%{x}<br>Life Expectancy (years)=%{y}<br>Country=%{customdata[0]}<extra></extra>",
         "legendgroup": "",
         "marker": {
          "color": "#636efa",
          "symbol": "circle"
         },
         "mode": "markers",
         "name": "",
         "orientation": "v",
         "showlegend": false,
         "type": "scatter",
         "x": [
          98.3,
          91.9,
          90,
          88.4,
          87.6,
          83.9,
          82.1,
          77.9,
          74.1,
          73.1,
          72.5,
          72.1,
          70.2,
          69.8,
          69.2,
          68.9,
          68.5,
          67.6,
          67.2,
          65.4,
          65.2,
          63.4,
          62,
          61.9,
          61.5,
          60.4,
          59.7,
          58.9,
          57.7,
          57.4,
          55.9,
          55.8,
          55.5,
          54.6,
          54,
          52.9,
          52.7,
          52.7,
          51.6,
          51.4,
          51.3,
          50.3,
          50.2,
          50,
          49.9,
          49.8,
          48.4,
          48.1,
          48,
          46.9,
          46.3,
          46,
          45.4,
          43.6,
          43.1,
          43.1,
          43.1,
          42.8,
          42.7,
          42.6,
          42.3,
          41.7,
          41.2,
          40.7,
          40.6,
          40.4,
          40,
          39.3,
          38.6,
          38.2,
          37.8,
          37.7,
          36.9,
          36.1,
          35.7,
          35.6,
          35.5,
          35.4,
          34.8,
          34.6,
          34.6,
          34.4,
          33.9,
          33.9,
          33.2,
          33.2,
          33.2,
          32.9,
          32.7,
          32.7,
          32.7,
          32.2,
          31.8,
          31.8,
          31.7,
          31.3,
          31.2,
          31.1,
          30.9,
          30.9,
          30.1,
          28.1,
          27.8,
          25.9,
          25.8,
          25.4,
          24.3,
          23.8,
          23.1,
          22.9,
          22.6,
          22.5,
          22.4,
          22.3,
          21.4,
          19.7,
          19.7,
          19.3,
          19,
          18.9,
          18.7,
          16.7,
          16.3,
          15.4,
          15,
          14.9,
          14.7,
          14.7,
          14.1,
          13.4,
          13.1,
          12.6,
          12.6,
          12.6,
          12.5,
          12.5,
          11.7,
          11.2,
          11,
          11,
          10.9,
          10.7,
          10,
          9.8,
          9.7,
          8.8,
          8.3,
          8.1,
          8,
          7.8,
          7.7,
          7.6,
          7.5,
          7.2,
          6.8,
          6.6,
          4.6,
          3.8,
          3.8,
          3.5,
          3.3,
          3.3,
          3.1,
          3,
          2.7,
          2.1,
          1.9,
          1.9,
          1.6,
          1.2,
          1.1,
          1.1,
          1,
          0.9,
          0.8,
          0.8,
          0.5,
          0.5,
          0.4,
          0.2,
          0.2,
          0.1,
          0.1,
          0,
          0,
          0
         ],
         "xaxis": "x",
         "y": [
          71.6,
          67.8,
          66.2,
          72.8,
          69.1,
          69.8,
          67.6,
          72.8,
          64.3,
          81.7,
          71.5,
          75.7,
          65.2,
          58,
          72.4,
          82.5,
          84.2,
          76,
          60.4,
          64.3,
          63.5,
          82.6,
          81,
          78.3,
          76.8,
          73.2,
          74.5,
          75.7,
          76.5,
          76.6,
          67.3,
          70.2,
          58.4,
          80.1,
          74.7,
          69.6,
          77.1,
          72.1,
          65,
          73.8,
          78.2,
          71.2,
          76.8,
          72.4,
          71.5,
          72.7,
          61.7,
          75.3,
          60.2,
          81.6,
          60.8,
          73.4,
          69.3,
          66.9,
          63.7,
          83,
          54.3,
          67.7,
          77.3,
          74.2,
          71.3,
          73.9,
          63.8,
          72.1,
          73.6,
          77.2,
          75.1,
          58.9,
          81.9,
          81.9,
          61.5,
          74.1,
          83.3,
          70.3,
          82.1,
          52.8,
          61.2,
          74.9,
          75.7,
          79,
          81.3,
          78.1,
          75,
          78.5,
          63.8,
          82.8,
          76.1,
          76.8,
          57.4,
          80.9,
          74.1,
          76.9,
          82.9,
          83.6,
          81.3,
          78.7,
          82.5,
          75.5,
          74.4,
          77.6,
          75.4,
          78.5,
          71.1,
          74.3,
          61.2,
          70.5,
          80,
          69.4,
          83.1,
          75.8,
          81.6,
          72.8,
          77,
          76.9,
          66.7,
          64.1,
          68.7,
          61.2,
          74.4,
          69.3,
          80.8,
          71.6,
          82.7,
          77.4,
          68.1,
          65.9,
          79.1,
          81,
          72.9,
          78.9,
          81.3,
          73.1,
          71.8,
          76.5,
          66.2,
          70.8,
          74.9,
          81.8,
          72.3,
          82.3,
          61.2,
          77.8,
          57.1,
          76.5,
          63,
          68.1,
          63.4,
          65.1,
          69.7,
          66.3,
          82.8,
          63.9,
          71.6,
          54.3,
          76.5,
          76.5,
          77.8,
          54,
          58.9,
          63.7,
          71.4,
          78.6,
          60.8,
          70.9,
          71.8,
          64.5,
          70.5,
          67.1,
          53.7,
          73.2,
          74.4,
          82.3,
          66.1,
          62,
          76.7,
          77.2,
          82.7,
          75,
          75.4,
          66.6,
          64.7,
          71.8,
          72.7,
          77.6,
          80.1,
          85.4
         ],
         "yaxis": "y"
        },
        {
         "mode": "lines",
         "name": "Regression Line",
         "type": "scatter",
         "x": [
          0,
          0.9929292929292929,
          1.9858585858585858,
          2.9787878787878785,
          3.9717171717171715,
          4.9646464646464645,
          5.957575757575757,
          6.9505050505050505,
          7.943434343434343,
          8.936363636363636,
          9.929292929292929,
          10.922222222222222,
          11.915151515151514,
          12.908080808080808,
          13.901010101010101,
          14.893939393939393,
          15.886868686868686,
          16.879797979797978,
          17.87272727272727,
          18.865656565656565,
          19.858585858585858,
          20.85151515151515,
          21.844444444444445,
          22.837373737373735,
          23.83030303030303,
          24.82323232323232,
          25.816161616161615,
          26.80909090909091,
          27.802020202020202,
          28.794949494949492,
          29.787878787878785,
          30.78080808080808,
          31.773737373737372,
          32.766666666666666,
          33.759595959595956,
          34.75252525252525,
          35.74545454545454,
          36.73838383838384,
          37.73131313131313,
          38.72424242424242,
          39.717171717171716,
          40.710101010101006,
          41.7030303030303,
          42.69595959595959,
          43.68888888888889,
          44.68181818181818,
          45.67474747474747,
          46.66767676767677,
          47.66060606060606,
          48.653535353535354,
          49.64646464646464,
          50.63939393939394,
          51.63232323232323,
          52.62525252525252,
          53.61818181818182,
          54.61111111111111,
          55.604040404040404,
          56.596969696969694,
          57.589898989898984,
          58.58282828282828,
          59.57575757575757,
          60.56868686868687,
          61.56161616161616,
          62.554545454545455,
          63.547474747474745,
          64.54040404040404,
          65.53333333333333,
          66.52626262626262,
          67.51919191919191,
          68.51212121212122,
          69.5050505050505,
          70.4979797979798,
          71.49090909090908,
          72.48383838383837,
          73.47676767676768,
          74.46969696969697,
          75.46262626262626,
          76.45555555555555,
          77.44848484848484,
          78.44141414141414,
          79.43434343434343,
          80.42727272727272,
          81.42020202020201,
          82.41313131313132,
          83.4060606060606,
          84.3989898989899,
          85.39191919191919,
          86.38484848484848,
          87.37777777777778,
          88.37070707070707,
          89.36363636363636,
          90.35656565656565,
          91.34949494949494,
          92.34242424242424,
          93.33535353535353,
          94.32828282828282,
          95.32121212121211,
          96.3141414141414,
          97.30707070707071,
          98.3
         ],
         "y": [
          72.29999362345244,
          72.30181231203107,
          72.30363100060973,
          72.30544968918836,
          72.307268377767,
          72.30908706634565,
          72.31090575492429,
          72.31272444350293,
          72.31454313208158,
          72.31636182066022,
          72.31818050923886,
          72.31999919781751,
          72.32181788639615,
          72.32363657497478,
          72.32545526355344,
          72.32727395213207,
          72.32909264071073,
          72.33091132928936,
          72.332730017868,
          72.33454870644665,
          72.33636739502529,
          72.33818608360393,
          72.34000477218258,
          72.34182346076122,
          72.34364214933986,
          72.34546083791851,
          72.34727952649715,
          72.34909821507578,
          72.35091690365444,
          72.35273559223307,
          72.35455428081171,
          72.35637296939036,
          72.358191657969,
          72.36001034654764,
          72.36182903512629,
          72.36364772370493,
          72.36546641228357,
          72.36728510086222,
          72.36910378944086,
          72.3709224780195,
          72.37274116659815,
          72.37455985517678,
          72.37637854375542,
          72.37819723233407,
          72.38001592091271,
          72.38183460949136,
          72.38365329807,
          72.38547198664864,
          72.38729067522729,
          72.38910936380593,
          72.39092805238457,
          72.39274674096322,
          72.39456542954186,
          72.3963841181205,
          72.39820280669915,
          72.40002149527778,
          72.40184018385642,
          72.40365887243507,
          72.40547756101371,
          72.40729624959235,
          72.409114938171,
          72.41093362674964,
          72.41275231532828,
          72.41457100390693,
          72.41638969248557,
          72.4182083810642,
          72.42002706964286,
          72.4218457582215,
          72.42366444680013,
          72.42548313537878,
          72.42730182395742,
          72.42912051253606,
          72.43093920111471,
          72.43275788969335,
          72.434576578272,
          72.43639526685064,
          72.43821395542928,
          72.44003264400793,
          72.44185133258657,
          72.4436700211652,
          72.44548870974386,
          72.4473073983225,
          72.44912608690113,
          72.45094477547978,
          72.45276346405842,
          72.45458215263706,
          72.45640084121571,
          72.45821952979435,
          72.46003821837299,
          72.46185690695164,
          72.46367559553028,
          72.46549428410891,
          72.46731297268757,
          72.4691316612662,
          72.47095034984484,
          72.4727690384235,
          72.47458772700213,
          72.47640641558077,
          72.47822510415942,
          72.48004379273806
         ]
        }
       ],
       "layout": {
        "legend": {
         "tracegroupgap": 0
        },
        "template": {
         "data": {
          "bar": [
           {
            "error_x": {
             "color": "#2a3f5f"
            },
            "error_y": {
             "color": "#2a3f5f"
            },
            "marker": {
             "line": {
              "color": "#E5ECF6",
              "width": 0.5
             },
             "pattern": {
              "fillmode": "overlay",
              "size": 10,
              "solidity": 0.2
             }
            },
            "type": "bar"
           }
          ],
          "barpolar": [
           {
            "marker": {
             "line": {
              "color": "#E5ECF6",
              "width": 0.5
             },
             "pattern": {
              "fillmode": "overlay",
              "size": 10,
              "solidity": 0.2
             }
            },
            "type": "barpolar"
           }
          ],
          "carpet": [
           {
            "aaxis": {
             "endlinecolor": "#2a3f5f",
             "gridcolor": "white",
             "linecolor": "white",
             "minorgridcolor": "white",
             "startlinecolor": "#2a3f5f"
            },
            "baxis": {
             "endlinecolor": "#2a3f5f",
             "gridcolor": "white",
             "linecolor": "white",
             "minorgridcolor": "white",
             "startlinecolor": "#2a3f5f"
            },
            "type": "carpet"
           }
          ],
          "choropleth": [
           {
            "colorbar": {
             "outlinewidth": 0,
             "ticks": ""
            },
            "type": "choropleth"
           }
          ],
          "contour": [
           {
            "colorbar": {
             "outlinewidth": 0,
             "ticks": ""
            },
            "colorscale": [
             [
              0,
              "#0d0887"
             ],
             [
              0.1111111111111111,
              "#46039f"
             ],
             [
              0.2222222222222222,
              "#7201a8"
             ],
             [
              0.3333333333333333,
              "#9c179e"
             ],
             [
              0.4444444444444444,
              "#bd3786"
             ],
             [
              0.5555555555555556,
              "#d8576b"
             ],
             [
              0.6666666666666666,
              "#ed7953"
             ],
             [
              0.7777777777777778,
              "#fb9f3a"
             ],
             [
              0.8888888888888888,
              "#fdca26"
             ],
             [
              1,
              "#f0f921"
             ]
            ],
            "type": "contour"
           }
          ],
          "contourcarpet": [
           {
            "colorbar": {
             "outlinewidth": 0,
             "ticks": ""
            },
            "type": "contourcarpet"
           }
          ],
          "heatmap": [
           {
            "colorbar": {
             "outlinewidth": 0,
             "ticks": ""
            },
            "colorscale": [
             [
              0,
              "#0d0887"
             ],
             [
              0.1111111111111111,
              "#46039f"
             ],
             [
              0.2222222222222222,
              "#7201a8"
             ],
             [
              0.3333333333333333,
              "#9c179e"
             ],
             [
              0.4444444444444444,
              "#bd3786"
             ],
             [
              0.5555555555555556,
              "#d8576b"
             ],
             [
              0.6666666666666666,
              "#ed7953"
             ],
             [
              0.7777777777777778,
              "#fb9f3a"
             ],
             [
              0.8888888888888888,
              "#fdca26"
             ],
             [
              1,
              "#f0f921"
             ]
            ],
            "type": "heatmap"
           }
          ],
          "heatmapgl": [
           {
            "colorbar": {
             "outlinewidth": 0,
             "ticks": ""
            },
            "colorscale": [
             [
              0,
              "#0d0887"
             ],
             [
              0.1111111111111111,
              "#46039f"
             ],
             [
              0.2222222222222222,
              "#7201a8"
             ],
             [
              0.3333333333333333,
              "#9c179e"
             ],
             [
              0.4444444444444444,
              "#bd3786"
             ],
             [
              0.5555555555555556,
              "#d8576b"
             ],
             [
              0.6666666666666666,
              "#ed7953"
             ],
             [
              0.7777777777777778,
              "#fb9f3a"
             ],
             [
              0.8888888888888888,
              "#fdca26"
             ],
             [
              1,
              "#f0f921"
             ]
            ],
            "type": "heatmapgl"
           }
          ],
          "histogram": [
           {
            "marker": {
             "pattern": {
              "fillmode": "overlay",
              "size": 10,
              "solidity": 0.2
             }
            },
            "type": "histogram"
           }
          ],
          "histogram2d": [
           {
            "colorbar": {
             "outlinewidth": 0,
             "ticks": ""
            },
            "colorscale": [
             [
              0,
              "#0d0887"
             ],
             [
              0.1111111111111111,
              "#46039f"
             ],
             [
              0.2222222222222222,
              "#7201a8"
             ],
             [
              0.3333333333333333,
              "#9c179e"
             ],
             [
              0.4444444444444444,
              "#bd3786"
             ],
             [
              0.5555555555555556,
              "#d8576b"
             ],
             [
              0.6666666666666666,
              "#ed7953"
             ],
             [
              0.7777777777777778,
              "#fb9f3a"
             ],
             [
              0.8888888888888888,
              "#fdca26"
             ],
             [
              1,
              "#f0f921"
             ]
            ],
            "type": "histogram2d"
           }
          ],
          "histogram2dcontour": [
           {
            "colorbar": {
             "outlinewidth": 0,
             "ticks": ""
            },
            "colorscale": [
             [
              0,
              "#0d0887"
             ],
             [
              0.1111111111111111,
              "#46039f"
             ],
             [
              0.2222222222222222,
              "#7201a8"
             ],
             [
              0.3333333333333333,
              "#9c179e"
             ],
             [
              0.4444444444444444,
              "#bd3786"
             ],
             [
              0.5555555555555556,
              "#d8576b"
             ],
             [
              0.6666666666666666,
              "#ed7953"
             ],
             [
              0.7777777777777778,
              "#fb9f3a"
             ],
             [
              0.8888888888888888,
              "#fdca26"
             ],
             [
              1,
              "#f0f921"
             ]
            ],
            "type": "histogram2dcontour"
           }
          ],
          "mesh3d": [
           {
            "colorbar": {
             "outlinewidth": 0,
             "ticks": ""
            },
            "type": "mesh3d"
           }
          ],
          "parcoords": [
           {
            "line": {
             "colorbar": {
              "outlinewidth": 0,
              "ticks": ""
             }
            },
            "type": "parcoords"
           }
          ],
          "pie": [
           {
            "automargin": true,
            "type": "pie"
           }
          ],
          "scatter": [
           {
            "fillpattern": {
             "fillmode": "overlay",
             "size": 10,
             "solidity": 0.2
            },
            "type": "scatter"
           }
          ],
          "scatter3d": [
           {
            "line": {
             "colorbar": {
              "outlinewidth": 0,
              "ticks": ""
             }
            },
            "marker": {
             "colorbar": {
              "outlinewidth": 0,
              "ticks": ""
             }
            },
            "type": "scatter3d"
           }
          ],
          "scattercarpet": [
           {
            "marker": {
             "colorbar": {
              "outlinewidth": 0,
              "ticks": ""
             }
            },
            "type": "scattercarpet"
           }
          ],
          "scattergeo": [
           {
            "marker": {
             "colorbar": {
              "outlinewidth": 0,
              "ticks": ""
             }
            },
            "type": "scattergeo"
           }
          ],
          "scattergl": [
           {
            "marker": {
             "colorbar": {
              "outlinewidth": 0,
              "ticks": ""
             }
            },
            "type": "scattergl"
           }
          ],
          "scattermapbox": [
           {
            "marker": {
             "colorbar": {
              "outlinewidth": 0,
              "ticks": ""
             }
            },
            "type": "scattermapbox"
           }
          ],
          "scatterpolar": [
           {
            "marker": {
             "colorbar": {
              "outlinewidth": 0,
              "ticks": ""
             }
            },
            "type": "scatterpolar"
           }
          ],
          "scatterpolargl": [
           {
            "marker": {
             "colorbar": {
              "outlinewidth": 0,
              "ticks": ""
             }
            },
            "type": "scatterpolargl"
           }
          ],
          "scatterternary": [
           {
            "marker": {
             "colorbar": {
              "outlinewidth": 0,
              "ticks": ""
             }
            },
            "type": "scatterternary"
           }
          ],
          "surface": [
           {
            "colorbar": {
             "outlinewidth": 0,
             "ticks": ""
            },
            "colorscale": [
             [
              0,
              "#0d0887"
             ],
             [
              0.1111111111111111,
              "#46039f"
             ],
             [
              0.2222222222222222,
              "#7201a8"
             ],
             [
              0.3333333333333333,
              "#9c179e"
             ],
             [
              0.4444444444444444,
              "#bd3786"
             ],
             [
              0.5555555555555556,
              "#d8576b"
             ],
             [
              0.6666666666666666,
              "#ed7953"
             ],
             [
              0.7777777777777778,
              "#fb9f3a"
             ],
             [
              0.8888888888888888,
              "#fdca26"
             ],
             [
              1,
              "#f0f921"
             ]
            ],
            "type": "surface"
           }
          ],
          "table": [
           {
            "cells": {
             "fill": {
              "color": "#EBF0F8"
             },
             "line": {
              "color": "white"
             }
            },
            "header": {
             "fill": {
              "color": "#C8D4E3"
             },
             "line": {
              "color": "white"
             }
            },
            "type": "table"
           }
          ]
         },
         "layout": {
          "annotationdefaults": {
           "arrowcolor": "#2a3f5f",
           "arrowhead": 0,
           "arrowwidth": 1
          },
          "autotypenumbers": "strict",
          "coloraxis": {
           "colorbar": {
            "outlinewidth": 0,
            "ticks": ""
           }
          },
          "colorscale": {
           "diverging": [
            [
             0,
             "#8e0152"
            ],
            [
             0.1,
             "#c51b7d"
            ],
            [
             0.2,
             "#de77ae"
            ],
            [
             0.3,
             "#f1b6da"
            ],
            [
             0.4,
             "#fde0ef"
            ],
            [
             0.5,
             "#f7f7f7"
            ],
            [
             0.6,
             "#e6f5d0"
            ],
            [
             0.7,
             "#b8e186"
            ],
            [
             0.8,
             "#7fbc41"
            ],
            [
             0.9,
             "#4d9221"
            ],
            [
             1,
             "#276419"
            ]
           ],
           "sequential": [
            [
             0,
             "#0d0887"
            ],
            [
             0.1111111111111111,
             "#46039f"
            ],
            [
             0.2222222222222222,
             "#7201a8"
            ],
            [
             0.3333333333333333,
             "#9c179e"
            ],
            [
             0.4444444444444444,
             "#bd3786"
            ],
            [
             0.5555555555555556,
             "#d8576b"
            ],
            [
             0.6666666666666666,
             "#ed7953"
            ],
            [
             0.7777777777777778,
             "#fb9f3a"
            ],
            [
             0.8888888888888888,
             "#fdca26"
            ],
            [
             1,
             "#f0f921"
            ]
           ],
           "sequentialminus": [
            [
             0,
             "#0d0887"
            ],
            [
             0.1111111111111111,
             "#46039f"
            ],
            [
             0.2222222222222222,
             "#7201a8"
            ],
            [
             0.3333333333333333,
             "#9c179e"
            ],
            [
             0.4444444444444444,
             "#bd3786"
            ],
            [
             0.5555555555555556,
             "#d8576b"
            ],
            [
             0.6666666666666666,
             "#ed7953"
            ],
            [
             0.7777777777777778,
             "#fb9f3a"
            ],
            [
             0.8888888888888888,
             "#fdca26"
            ],
            [
             1,
             "#f0f921"
            ]
           ]
          },
          "colorway": [
           "#636efa",
           "#EF553B",
           "#00cc96",
           "#ab63fa",
           "#FFA15A",
           "#19d3f3",
           "#FF6692",
           "#B6E880",
           "#FF97FF",
           "#FECB52"
          ],
          "font": {
           "color": "#2a3f5f"
          },
          "geo": {
           "bgcolor": "white",
           "lakecolor": "white",
           "landcolor": "#E5ECF6",
           "showlakes": true,
           "showland": true,
           "subunitcolor": "white"
          },
          "hoverlabel": {
           "align": "left"
          },
          "hovermode": "closest",
          "mapbox": {
           "style": "light"
          },
          "paper_bgcolor": "white",
          "plot_bgcolor": "#E5ECF6",
          "polar": {
           "angularaxis": {
            "gridcolor": "white",
            "linecolor": "white",
            "ticks": ""
           },
           "bgcolor": "#E5ECF6",
           "radialaxis": {
            "gridcolor": "white",
            "linecolor": "white",
            "ticks": ""
           }
          },
          "scene": {
           "xaxis": {
            "backgroundcolor": "#E5ECF6",
            "gridcolor": "white",
            "gridwidth": 2,
            "linecolor": "white",
            "showbackground": true,
            "ticks": "",
            "zerolinecolor": "white"
           },
           "yaxis": {
            "backgroundcolor": "#E5ECF6",
            "gridcolor": "white",
            "gridwidth": 2,
            "linecolor": "white",
            "showbackground": true,
            "ticks": "",
            "zerolinecolor": "white"
           },
           "zaxis": {
            "backgroundcolor": "#E5ECF6",
            "gridcolor": "white",
            "gridwidth": 2,
            "linecolor": "white",
            "showbackground": true,
            "ticks": "",
            "zerolinecolor": "white"
           }
          },
          "shapedefaults": {
           "line": {
            "color": "#2a3f5f"
           }
          },
          "ternary": {
           "aaxis": {
            "gridcolor": "white",
            "linecolor": "white",
            "ticks": ""
           },
           "baxis": {
            "gridcolor": "white",
            "linecolor": "white",
            "ticks": ""
           },
           "bgcolor": "#E5ECF6",
           "caxis": {
            "gridcolor": "white",
            "linecolor": "white",
            "ticks": ""
           }
          },
          "title": {
           "x": 0.05
          },
          "xaxis": {
           "automargin": true,
           "gridcolor": "white",
           "linecolor": "white",
           "ticks": "",
           "title": {
            "standoff": 15
           },
           "zerolinecolor": "white",
           "zerolinewidth": 2
          },
          "yaxis": {
           "automargin": true,
           "gridcolor": "white",
           "linecolor": "white",
           "ticks": "",
           "title": {
            "standoff": 15
           },
           "zerolinecolor": "white",
           "zerolinewidth": 2
          }
         }
        },
        "title": {
         "text": "Scatter plot of Life Expectancy vs. Forested Area"
        },
        "xaxis": {
         "anchor": "y",
         "domain": [
          0,
          1
         ],
         "title": {
          "text": "Forested Area (%)"
         }
        },
        "yaxis": {
         "anchor": "x",
         "domain": [
          0,
          1
         ],
         "title": {
          "text": "Life Expectancy (years)"
         }
        }
       }
      },
      "text/html": [
       "<div>                            <div id=\"9b7823ef-ff34-4b41-a778-ad7bbe83a975\" class=\"plotly-graph-div\" style=\"height:525px; width:100%;\"></div>            <script type=\"text/javascript\">                require([\"plotly\"], function(Plotly) {                    window.PLOTLYENV=window.PLOTLYENV || {};                                    if (document.getElementById(\"9b7823ef-ff34-4b41-a778-ad7bbe83a975\")) {                    Plotly.newPlot(                        \"9b7823ef-ff34-4b41-a778-ad7bbe83a975\",                        [{\"customdata\":[[\"Suriname\"],[\"Federated States of Micronesia\"],[\"Gabon\"],[\"Seychelles\"],[\"Palau\"],[\"Guyana\"],[\"Laos\"],[\"Solomon Islands\"],[\"Papua New Guinea\"],[\"Finland\"],[\"Bhutan\"],[\"Brunei\"],[\"Marshall Islands\"],[\"Guinea-Bissau\"],[\"Saint Vincent and the Grenadines\"],[\"Sweden\"],[\"Japan\"],[\"Malaysia\"],[\"Democratic Republic of the Congo\"],[\"Republic of the Congo\"],[\"Zambia\"],[\"South Korea\"],[\"Slovenia\"],[\"Panama\"],[\"Montenegro\"],[\"Samoa\"],[\"Belize\"],[\"Brazil\"],[\"Peru\"],[\"Dominica\"],[\"Fiji\"],[\"S\\ufffd\\ufffd\\ufffd\\ufffd\\ufffd\\ufffd\\ufffd\\ufffd\\ufffd\\ufffd\\ufffd\"],[\"Equatorial Guinea\"],[\"Costa Rica\"],[\"Latvia\"],[\"Cambodia\"],[\"Colombia\"],[\"Venezuela\"],[\"Tanzania\"],[\"The Bahamas\"],[\"Estonia\"],[\"Bolivia\"],[\"Ecuador\"],[\"Grenada\"],[\"Indonesia\"],[\"Russia\"],[\"The Gambia\"],[\"Vietnam\"],[\"Mozambique\"],[\"Austria\"],[\"Angola\"],[\"Trinidad and Tobago\"],[\"East Timor\"],[\"Myanmar\"],[\"Liberia\"],[\"Liechtenstein\"],[\"Sierra Leone\"],[\"Senegal\"],[\"Bosnia and Herzegovina\"],[\"Belarus\"],[\"Saint Kitts and Nevis\"],[\"Dominican Republic\"],[\"Ghana\"],[\"North Korea\"],[\"Georgia\"],[\"Slovakia\"],[\"Honduras\"],[\"Cameroon\"],[\"New Zealand\"],[\"Canada\"],[\"Benin\"],[\"Paraguay\"],[\"Spain\"],[\"Vanuatu\"],[\"Luxembourg\"],[\"Central African Republic\"],[\"Zimbabwe\"],[\"Bulgaria\"],[\"Lithuania\"],[\"Czech Republic\"],[\"Portugal\"],[\"Croatia\"],[\"Mexico\"],[\"United States\"],[\"Malawi\"],[\"Norway\"],[\"Saint Lucia\"],[\"Sri Lanka\"],[\"Ivory Coast\"],[\"Germany\"],[\"Guatemala\"],[\"Thailand\"],[\"Italy\"],[\"Switzerland\"],[\"Greece\"],[\"Cuba\"],[\"France\"],[\"Serbia\"],[\"Jamaica\"],[\"Poland\"],[\"Romania\"],[\"Albania\"],[\"Philippines\"],[\"Nicaragua\"],[\"Guinea\"],[\"Nepal\"],[\"Chile\"],[\"India\"],[\"Singapore\"],[\"Hungary\"],[\"Belgium\"],[\"Cape Verde\"],[\"China\"],[\"Antigua and Barbuda\"],[\"Madagascar\"],[\"Comoros\"],[\"Rwanda\"],[\"Burkina Faso\"],[\"Mauritius\"],[\"Botswana\"],[\"Cyprus\"],[\"Ukraine\"],[\"Australia\"],[\"Turkey\"],[\"Kiribati\"],[\"Eritrea\"],[\"Barbados\"],[\"Denmark\"],[\"Azerbaijan\"],[\"Lebanon\"],[\"United Kingdom\"],[\"El Salvador\"],[\"Moldova\"],[\"Morocco\"],[\"Ethiopia\"],[\"Tonga\"],[\"Armenia\"],[\"Netherlands\"],[\"Bangladesh\"],[\"Republic of Ireland\"],[\"Burundi\"],[\"Uruguay\"],[\"Somalia\"],[\"Argentina\"],[\"Uganda\"],[\"Turkmenistan\"],[\"Namibia\"],[\"Sudan\"],[\"Mongolia\"],[\"Kenya\"],[\"Israel\"],[\"South Africa\"],[\"Uzbekistan\"],[\"Nigeria\"],[\"Tunisia\"],[\"Iran\"],[\"United Arab Emirates\"],[\"Chad\"],[\"Mali\"],[\"Haiti\"],[\"Kyrgyzstan\"],[\"Maldives\"],[\"Togo\"],[\"Tajikistan\"],[\"Syria\"],[\"Afghanistan\"],[\"Iraq\"],[\"Pakistan\"],[\"Lesotho\"],[\"Kazakhstan\"],[\"Jordan\"],[\"Malta\"],[\"Yemen\"],[\"Niger\"],[\"Algeria\"],[\"Bahrain\"],[\"Iceland\"],[\"Saudi Arabia\"],[\"Kuwait\"],[\"Djibouti\"],[\"Mauritania\"],[\"Egypt\"],[\"Libya\"],[\"Oman\"],[\"Qatar\"],[\"San Marino\"]],\"hovertemplate\":\"Forested Area (%)=%{x}\\u003cbr\\u003eLife Expectancy (years)=%{y}\\u003cbr\\u003eCountry=%{customdata[0]}\\u003cextra\\u003e\\u003c\\u002fextra\\u003e\",\"legendgroup\":\"\",\"marker\":{\"color\":\"#636efa\",\"symbol\":\"circle\"},\"mode\":\"markers\",\"name\":\"\",\"orientation\":\"v\",\"showlegend\":false,\"x\":[98.3,91.9,90.0,88.4,87.6,83.9,82.1,77.9,74.1,73.1,72.5,72.1,70.2,69.8,69.2,68.9,68.5,67.6,67.2,65.4,65.2,63.4,62.0,61.9,61.5,60.4,59.7,58.9,57.7,57.4,55.9,55.8,55.5,54.6,54.0,52.9,52.7,52.7,51.6,51.4,51.3,50.3,50.2,50.0,49.9,49.8,48.4,48.1,48.0,46.9,46.3,46.0,45.4,43.6,43.1,43.1,43.1,42.8,42.7,42.6,42.3,41.7,41.2,40.7,40.6,40.4,40.0,39.3,38.6,38.2,37.8,37.7,36.9,36.1,35.7,35.6,35.5,35.4,34.8,34.6,34.6,34.4,33.9,33.9,33.2,33.2,33.2,32.9,32.7,32.7,32.7,32.2,31.8,31.8,31.7,31.3,31.2,31.1,30.9,30.9,30.1,28.1,27.8,25.9,25.8,25.4,24.3,23.8,23.1,22.9,22.6,22.5,22.4,22.3,21.4,19.7,19.7,19.3,19.0,18.9,18.7,16.7,16.3,15.4,15.0,14.9,14.7,14.7,14.1,13.4,13.1,12.6,12.6,12.6,12.5,12.5,11.7,11.2,11.0,11.0,10.9,10.7,10.0,9.8,9.7,8.8,8.3,8.1,8.0,7.8,7.7,7.6,7.5,7.2,6.8,6.6,4.6,3.8,3.8,3.5,3.3,3.3,3.1,3.0,2.7,2.1,1.9,1.9,1.6,1.2,1.1,1.1,1.0,0.9,0.8,0.8,0.5,0.5,0.4,0.2,0.2,0.1,0.1,0.0,0.0,0.0],\"xaxis\":\"x\",\"y\":[71.6,67.8,66.2,72.8,69.1,69.8,67.6,72.8,64.3,81.7,71.5,75.7,65.2,58.0,72.4,82.5,84.2,76.0,60.4,64.3,63.5,82.6,81.0,78.3,76.8,73.2,74.5,75.7,76.5,76.6,67.3,70.2,58.4,80.1,74.7,69.6,77.1,72.1,65.0,73.8,78.2,71.2,76.8,72.4,71.5,72.7,61.7,75.3,60.2,81.6,60.8,73.4,69.3,66.9,63.7,83.0,54.3,67.7,77.3,74.2,71.3,73.9,63.8,72.1,73.6,77.2,75.1,58.9,81.9,81.9,61.5,74.1,83.3,70.3,82.1,52.8,61.2,74.9,75.7,79.0,81.3,78.1,75.0,78.5,63.8,82.8,76.1,76.8,57.4,80.9,74.1,76.9,82.9,83.6,81.3,78.7,82.5,75.5,74.4,77.6,75.4,78.5,71.1,74.3,61.2,70.5,80.0,69.4,83.1,75.8,81.6,72.8,77.0,76.9,66.7,64.1,68.7,61.2,74.4,69.3,80.8,71.6,82.7,77.4,68.1,65.9,79.1,81.0,72.9,78.9,81.3,73.1,71.8,76.5,66.2,70.8,74.9,81.8,72.3,82.3,61.2,77.8,57.1,76.5,63.0,68.1,63.4,65.1,69.7,66.3,82.8,63.9,71.6,54.3,76.5,76.5,77.8,54.0,58.9,63.7,71.4,78.6,60.8,70.9,71.8,64.5,70.5,67.1,53.7,73.2,74.4,82.3,66.1,62.0,76.7,77.2,82.7,75.0,75.4,66.6,64.7,71.8,72.7,77.6,80.1,85.4],\"yaxis\":\"y\",\"type\":\"scatter\"},{\"mode\":\"lines\",\"name\":\"Regression Line\",\"x\":[0.0,0.9929292929292929,1.9858585858585858,2.9787878787878785,3.9717171717171715,4.9646464646464645,5.957575757575757,6.9505050505050505,7.943434343434343,8.936363636363636,9.929292929292929,10.922222222222222,11.915151515151514,12.908080808080808,13.901010101010101,14.893939393939393,15.886868686868686,16.879797979797978,17.87272727272727,18.865656565656565,19.858585858585858,20.85151515151515,21.844444444444445,22.837373737373735,23.83030303030303,24.82323232323232,25.816161616161615,26.80909090909091,27.802020202020202,28.794949494949492,29.787878787878785,30.78080808080808,31.773737373737372,32.766666666666666,33.759595959595956,34.75252525252525,35.74545454545454,36.73838383838384,37.73131313131313,38.72424242424242,39.717171717171716,40.710101010101006,41.7030303030303,42.69595959595959,43.68888888888889,44.68181818181818,45.67474747474747,46.66767676767677,47.66060606060606,48.653535353535354,49.64646464646464,50.63939393939394,51.63232323232323,52.62525252525252,53.61818181818182,54.61111111111111,55.604040404040404,56.596969696969694,57.589898989898984,58.58282828282828,59.57575757575757,60.56868686868687,61.56161616161616,62.554545454545455,63.547474747474745,64.54040404040404,65.53333333333333,66.52626262626262,67.51919191919191,68.51212121212122,69.5050505050505,70.4979797979798,71.49090909090908,72.48383838383837,73.47676767676768,74.46969696969697,75.46262626262626,76.45555555555555,77.44848484848484,78.44141414141414,79.43434343434343,80.42727272727272,81.42020202020201,82.41313131313132,83.4060606060606,84.3989898989899,85.39191919191919,86.38484848484848,87.37777777777778,88.37070707070707,89.36363636363636,90.35656565656565,91.34949494949494,92.34242424242424,93.33535353535353,94.32828282828282,95.32121212121211,96.3141414141414,97.30707070707071,98.3],\"y\":[72.29999362345244,72.30181231203107,72.30363100060973,72.30544968918836,72.307268377767,72.30908706634565,72.31090575492429,72.31272444350293,72.31454313208158,72.31636182066022,72.31818050923886,72.31999919781751,72.32181788639615,72.32363657497478,72.32545526355344,72.32727395213207,72.32909264071073,72.33091132928936,72.332730017868,72.33454870644665,72.33636739502529,72.33818608360393,72.34000477218258,72.34182346076122,72.34364214933986,72.34546083791851,72.34727952649715,72.34909821507578,72.35091690365444,72.35273559223307,72.35455428081171,72.35637296939036,72.358191657969,72.36001034654764,72.36182903512629,72.36364772370493,72.36546641228357,72.36728510086222,72.36910378944086,72.3709224780195,72.37274116659815,72.37455985517678,72.37637854375542,72.37819723233407,72.38001592091271,72.38183460949136,72.38365329807,72.38547198664864,72.38729067522729,72.38910936380593,72.39092805238457,72.39274674096322,72.39456542954186,72.3963841181205,72.39820280669915,72.40002149527778,72.40184018385642,72.40365887243507,72.40547756101371,72.40729624959235,72.409114938171,72.41093362674964,72.41275231532828,72.41457100390693,72.41638969248557,72.4182083810642,72.42002706964286,72.4218457582215,72.42366444680013,72.42548313537878,72.42730182395742,72.42912051253606,72.43093920111471,72.43275788969335,72.434576578272,72.43639526685064,72.43821395542928,72.44003264400793,72.44185133258657,72.4436700211652,72.44548870974386,72.4473073983225,72.44912608690113,72.45094477547978,72.45276346405842,72.45458215263706,72.45640084121571,72.45821952979435,72.46003821837299,72.46185690695164,72.46367559553028,72.46549428410891,72.46731297268757,72.4691316612662,72.47095034984484,72.4727690384235,72.47458772700213,72.47640641558077,72.47822510415942,72.48004379273806],\"type\":\"scatter\"}],                        {\"template\":{\"data\":{\"histogram2dcontour\":[{\"type\":\"histogram2dcontour\",\"colorbar\":{\"outlinewidth\":0,\"ticks\":\"\"},\"colorscale\":[[0.0,\"#0d0887\"],[0.1111111111111111,\"#46039f\"],[0.2222222222222222,\"#7201a8\"],[0.3333333333333333,\"#9c179e\"],[0.4444444444444444,\"#bd3786\"],[0.5555555555555556,\"#d8576b\"],[0.6666666666666666,\"#ed7953\"],[0.7777777777777778,\"#fb9f3a\"],[0.8888888888888888,\"#fdca26\"],[1.0,\"#f0f921\"]]}],\"choropleth\":[{\"type\":\"choropleth\",\"colorbar\":{\"outlinewidth\":0,\"ticks\":\"\"}}],\"histogram2d\":[{\"type\":\"histogram2d\",\"colorbar\":{\"outlinewidth\":0,\"ticks\":\"\"},\"colorscale\":[[0.0,\"#0d0887\"],[0.1111111111111111,\"#46039f\"],[0.2222222222222222,\"#7201a8\"],[0.3333333333333333,\"#9c179e\"],[0.4444444444444444,\"#bd3786\"],[0.5555555555555556,\"#d8576b\"],[0.6666666666666666,\"#ed7953\"],[0.7777777777777778,\"#fb9f3a\"],[0.8888888888888888,\"#fdca26\"],[1.0,\"#f0f921\"]]}],\"heatmap\":[{\"type\":\"heatmap\",\"colorbar\":{\"outlinewidth\":0,\"ticks\":\"\"},\"colorscale\":[[0.0,\"#0d0887\"],[0.1111111111111111,\"#46039f\"],[0.2222222222222222,\"#7201a8\"],[0.3333333333333333,\"#9c179e\"],[0.4444444444444444,\"#bd3786\"],[0.5555555555555556,\"#d8576b\"],[0.6666666666666666,\"#ed7953\"],[0.7777777777777778,\"#fb9f3a\"],[0.8888888888888888,\"#fdca26\"],[1.0,\"#f0f921\"]]}],\"heatmapgl\":[{\"type\":\"heatmapgl\",\"colorbar\":{\"outlinewidth\":0,\"ticks\":\"\"},\"colorscale\":[[0.0,\"#0d0887\"],[0.1111111111111111,\"#46039f\"],[0.2222222222222222,\"#7201a8\"],[0.3333333333333333,\"#9c179e\"],[0.4444444444444444,\"#bd3786\"],[0.5555555555555556,\"#d8576b\"],[0.6666666666666666,\"#ed7953\"],[0.7777777777777778,\"#fb9f3a\"],[0.8888888888888888,\"#fdca26\"],[1.0,\"#f0f921\"]]}],\"contourcarpet\":[{\"type\":\"contourcarpet\",\"colorbar\":{\"outlinewidth\":0,\"ticks\":\"\"}}],\"contour\":[{\"type\":\"contour\",\"colorbar\":{\"outlinewidth\":0,\"ticks\":\"\"},\"colorscale\":[[0.0,\"#0d0887\"],[0.1111111111111111,\"#46039f\"],[0.2222222222222222,\"#7201a8\"],[0.3333333333333333,\"#9c179e\"],[0.4444444444444444,\"#bd3786\"],[0.5555555555555556,\"#d8576b\"],[0.6666666666666666,\"#ed7953\"],[0.7777777777777778,\"#fb9f3a\"],[0.8888888888888888,\"#fdca26\"],[1.0,\"#f0f921\"]]}],\"surface\":[{\"type\":\"surface\",\"colorbar\":{\"outlinewidth\":0,\"ticks\":\"\"},\"colorscale\":[[0.0,\"#0d0887\"],[0.1111111111111111,\"#46039f\"],[0.2222222222222222,\"#7201a8\"],[0.3333333333333333,\"#9c179e\"],[0.4444444444444444,\"#bd3786\"],[0.5555555555555556,\"#d8576b\"],[0.6666666666666666,\"#ed7953\"],[0.7777777777777778,\"#fb9f3a\"],[0.8888888888888888,\"#fdca26\"],[1.0,\"#f0f921\"]]}],\"mesh3d\":[{\"type\":\"mesh3d\",\"colorbar\":{\"outlinewidth\":0,\"ticks\":\"\"}}],\"scatter\":[{\"fillpattern\":{\"fillmode\":\"overlay\",\"size\":10,\"solidity\":0.2},\"type\":\"scatter\"}],\"parcoords\":[{\"type\":\"parcoords\",\"line\":{\"colorbar\":{\"outlinewidth\":0,\"ticks\":\"\"}}}],\"scatterpolargl\":[{\"type\":\"scatterpolargl\",\"marker\":{\"colorbar\":{\"outlinewidth\":0,\"ticks\":\"\"}}}],\"bar\":[{\"error_x\":{\"color\":\"#2a3f5f\"},\"error_y\":{\"color\":\"#2a3f5f\"},\"marker\":{\"line\":{\"color\":\"#E5ECF6\",\"width\":0.5},\"pattern\":{\"fillmode\":\"overlay\",\"size\":10,\"solidity\":0.2}},\"type\":\"bar\"}],\"scattergeo\":[{\"type\":\"scattergeo\",\"marker\":{\"colorbar\":{\"outlinewidth\":0,\"ticks\":\"\"}}}],\"scatterpolar\":[{\"type\":\"scatterpolar\",\"marker\":{\"colorbar\":{\"outlinewidth\":0,\"ticks\":\"\"}}}],\"histogram\":[{\"marker\":{\"pattern\":{\"fillmode\":\"overlay\",\"size\":10,\"solidity\":0.2}},\"type\":\"histogram\"}],\"scattergl\":[{\"type\":\"scattergl\",\"marker\":{\"colorbar\":{\"outlinewidth\":0,\"ticks\":\"\"}}}],\"scatter3d\":[{\"type\":\"scatter3d\",\"line\":{\"colorbar\":{\"outlinewidth\":0,\"ticks\":\"\"}},\"marker\":{\"colorbar\":{\"outlinewidth\":0,\"ticks\":\"\"}}}],\"scattermapbox\":[{\"type\":\"scattermapbox\",\"marker\":{\"colorbar\":{\"outlinewidth\":0,\"ticks\":\"\"}}}],\"scatterternary\":[{\"type\":\"scatterternary\",\"marker\":{\"colorbar\":{\"outlinewidth\":0,\"ticks\":\"\"}}}],\"scattercarpet\":[{\"type\":\"scattercarpet\",\"marker\":{\"colorbar\":{\"outlinewidth\":0,\"ticks\":\"\"}}}],\"carpet\":[{\"aaxis\":{\"endlinecolor\":\"#2a3f5f\",\"gridcolor\":\"white\",\"linecolor\":\"white\",\"minorgridcolor\":\"white\",\"startlinecolor\":\"#2a3f5f\"},\"baxis\":{\"endlinecolor\":\"#2a3f5f\",\"gridcolor\":\"white\",\"linecolor\":\"white\",\"minorgridcolor\":\"white\",\"startlinecolor\":\"#2a3f5f\"},\"type\":\"carpet\"}],\"table\":[{\"cells\":{\"fill\":{\"color\":\"#EBF0F8\"},\"line\":{\"color\":\"white\"}},\"header\":{\"fill\":{\"color\":\"#C8D4E3\"},\"line\":{\"color\":\"white\"}},\"type\":\"table\"}],\"barpolar\":[{\"marker\":{\"line\":{\"color\":\"#E5ECF6\",\"width\":0.5},\"pattern\":{\"fillmode\":\"overlay\",\"size\":10,\"solidity\":0.2}},\"type\":\"barpolar\"}],\"pie\":[{\"automargin\":true,\"type\":\"pie\"}]},\"layout\":{\"autotypenumbers\":\"strict\",\"colorway\":[\"#636efa\",\"#EF553B\",\"#00cc96\",\"#ab63fa\",\"#FFA15A\",\"#19d3f3\",\"#FF6692\",\"#B6E880\",\"#FF97FF\",\"#FECB52\"],\"font\":{\"color\":\"#2a3f5f\"},\"hovermode\":\"closest\",\"hoverlabel\":{\"align\":\"left\"},\"paper_bgcolor\":\"white\",\"plot_bgcolor\":\"#E5ECF6\",\"polar\":{\"bgcolor\":\"#E5ECF6\",\"angularaxis\":{\"gridcolor\":\"white\",\"linecolor\":\"white\",\"ticks\":\"\"},\"radialaxis\":{\"gridcolor\":\"white\",\"linecolor\":\"white\",\"ticks\":\"\"}},\"ternary\":{\"bgcolor\":\"#E5ECF6\",\"aaxis\":{\"gridcolor\":\"white\",\"linecolor\":\"white\",\"ticks\":\"\"},\"baxis\":{\"gridcolor\":\"white\",\"linecolor\":\"white\",\"ticks\":\"\"},\"caxis\":{\"gridcolor\":\"white\",\"linecolor\":\"white\",\"ticks\":\"\"}},\"coloraxis\":{\"colorbar\":{\"outlinewidth\":0,\"ticks\":\"\"}},\"colorscale\":{\"sequential\":[[0.0,\"#0d0887\"],[0.1111111111111111,\"#46039f\"],[0.2222222222222222,\"#7201a8\"],[0.3333333333333333,\"#9c179e\"],[0.4444444444444444,\"#bd3786\"],[0.5555555555555556,\"#d8576b\"],[0.6666666666666666,\"#ed7953\"],[0.7777777777777778,\"#fb9f3a\"],[0.8888888888888888,\"#fdca26\"],[1.0,\"#f0f921\"]],\"sequentialminus\":[[0.0,\"#0d0887\"],[0.1111111111111111,\"#46039f\"],[0.2222222222222222,\"#7201a8\"],[0.3333333333333333,\"#9c179e\"],[0.4444444444444444,\"#bd3786\"],[0.5555555555555556,\"#d8576b\"],[0.6666666666666666,\"#ed7953\"],[0.7777777777777778,\"#fb9f3a\"],[0.8888888888888888,\"#fdca26\"],[1.0,\"#f0f921\"]],\"diverging\":[[0,\"#8e0152\"],[0.1,\"#c51b7d\"],[0.2,\"#de77ae\"],[0.3,\"#f1b6da\"],[0.4,\"#fde0ef\"],[0.5,\"#f7f7f7\"],[0.6,\"#e6f5d0\"],[0.7,\"#b8e186\"],[0.8,\"#7fbc41\"],[0.9,\"#4d9221\"],[1,\"#276419\"]]},\"xaxis\":{\"gridcolor\":\"white\",\"linecolor\":\"white\",\"ticks\":\"\",\"title\":{\"standoff\":15},\"zerolinecolor\":\"white\",\"automargin\":true,\"zerolinewidth\":2},\"yaxis\":{\"gridcolor\":\"white\",\"linecolor\":\"white\",\"ticks\":\"\",\"title\":{\"standoff\":15},\"zerolinecolor\":\"white\",\"automargin\":true,\"zerolinewidth\":2},\"scene\":{\"xaxis\":{\"backgroundcolor\":\"#E5ECF6\",\"gridcolor\":\"white\",\"linecolor\":\"white\",\"showbackground\":true,\"ticks\":\"\",\"zerolinecolor\":\"white\",\"gridwidth\":2},\"yaxis\":{\"backgroundcolor\":\"#E5ECF6\",\"gridcolor\":\"white\",\"linecolor\":\"white\",\"showbackground\":true,\"ticks\":\"\",\"zerolinecolor\":\"white\",\"gridwidth\":2},\"zaxis\":{\"backgroundcolor\":\"#E5ECF6\",\"gridcolor\":\"white\",\"linecolor\":\"white\",\"showbackground\":true,\"ticks\":\"\",\"zerolinecolor\":\"white\",\"gridwidth\":2}},\"shapedefaults\":{\"line\":{\"color\":\"#2a3f5f\"}},\"annotationdefaults\":{\"arrowcolor\":\"#2a3f5f\",\"arrowhead\":0,\"arrowwidth\":1},\"geo\":{\"bgcolor\":\"white\",\"landcolor\":\"#E5ECF6\",\"subunitcolor\":\"white\",\"showland\":true,\"showlakes\":true,\"lakecolor\":\"white\"},\"title\":{\"x\":0.05},\"mapbox\":{\"style\":\"light\"}}},\"xaxis\":{\"anchor\":\"y\",\"domain\":[0.0,1.0],\"title\":{\"text\":\"Forested Area (%)\"}},\"yaxis\":{\"anchor\":\"x\",\"domain\":[0.0,1.0],\"title\":{\"text\":\"Life Expectancy (years)\"}},\"legend\":{\"tracegroupgap\":0},\"title\":{\"text\":\"Scatter plot of Life Expectancy vs. Forested Area\"}},                        {\"responsive\": true}                    ).then(function(){\n",
       "                            \n",
       "var gd = document.getElementById('9b7823ef-ff34-4b41-a778-ad7bbe83a975');\n",
       "var x = new MutationObserver(function (mutations, observer) {{\n",
       "        var display = window.getComputedStyle(gd).display;\n",
       "        if (!display || display === 'none') {{\n",
       "            console.log([gd, 'removed!']);\n",
       "            Plotly.purge(gd);\n",
       "            observer.disconnect();\n",
       "        }}\n",
       "}});\n",
       "\n",
       "// Listen for the removal of the full notebook cells\n",
       "var notebookContainer = gd.closest('#notebook-container');\n",
       "if (notebookContainer) {{\n",
       "    x.observe(notebookContainer, {childList: true});\n",
       "}}\n",
       "\n",
       "// Listen for the clearing of the current output cell\n",
       "var outputEl = gd.closest('.output');\n",
       "if (outputEl) {{\n",
       "    x.observe(outputEl, {childList: true});\n",
       "}}\n",
       "\n",
       "                        })                };                });            </script>        </div>"
      ]
     },
     "metadata": {},
     "output_type": "display_data"
    }
   ],
   "source": [
    "import plotly.express as px\n",
    "import plotly.graph_objects as go\n",
    "from sklearn.linear_model import LinearRegression\n",
    "from sklearn.metrics import r2_score\n",
    "from scipy.stats import pearsonr\n",
    "import numpy as np\n",
    "\n",
    "# Define X and y\n",
    "X = forest_df[\"Forested Area (%)\"].values.reshape(-1, 1)\n",
    "y = forest_df[\"Life Expectancy (years)\"]\n",
    "\n",
    "# Fit a linear regression model\n",
    "model = LinearRegression()\n",
    "model.fit(X, y)\n",
    "\n",
    "# Calculate the R-squared value\n",
    "r2 = r2_score(y, model.predict(X))\n",
    "print(f'R-squared value: {r2:.2f}')\n",
    "\n",
    "# Calculate the p-value\n",
    "r, p = pearsonr(forest_df[\"Forested Area (%)\"], forest_df[\"Life Expectancy (years)\"])\n",
    "print(f'Correlation coefficient (r): {r:.2f}')\n",
    "print(f'p-value: {p:.2f}')\n",
    "\n",
    "# Generate a range of x values for the regression line\n",
    "x_range = np.linspace(X.min(), X.max(), 100)\n",
    "y_range = model.predict(x_range.reshape(-1, 1))\n",
    "\n",
    "# Create an interactive scatter plot\n",
    "fig = px.scatter(forest_df, x=\"Forested Area (%)\", y=\"Life Expectancy (years)\", custom_data=['Country'], hover_data=['Country'], title='Scatter plot of Life Expectancy vs. Forested Area')\n",
    "\n",
    "# Add the regression line to the plot\n",
    "fig.add_trace(go.Scatter(x=x_range, y=y_range, mode='lines', name='Regression Line'))\n",
    "\n",
    "# Show the plot\n",
    "fig.show()"
   ]
  },
  {
   "cell_type": "code",
   "execution_count": null,
   "id": "3aef561e",
   "metadata": {},
   "outputs": [],
   "source": []
  }
 ],
 "metadata": {
  "kernelspec": {
   "display_name": "PythonData",
   "language": "python",
   "name": "pythondata"
  },
  "language_info": {
   "codemirror_mode": {
    "name": "ipython",
    "version": 3
   },
   "file_extension": ".py",
   "mimetype": "text/x-python",
   "name": "python",
   "nbconvert_exporter": "python",
   "pygments_lexer": "ipython3",
   "version": "3.7.7"
  }
 },
 "nbformat": 4,
 "nbformat_minor": 5
}
